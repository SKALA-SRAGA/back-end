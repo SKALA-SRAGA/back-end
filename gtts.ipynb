{
 "cells": [
  {
   "cell_type": "code",
   "execution_count": 2,
   "metadata": {},
   "outputs": [],
   "source": [
    "from gtts import gTTS\n",
    "import os\n",
    "# from pydub import AudioSegment\n",
    "\n",
    "# 텍스트 정의\n",
    "text = \"The learning principle of an AI model is a process of adjusting internal weights using input data so that it can produce the desired output.\"\n",
    "\n",
    "# TTS로 MP3 생성\n",
    "tts = gTTS(text)\n",
    "tts.save(\"/Users/serma/Documents/skala/realtime/tts/ai_learning.mp3\")\n",
    "\n",
    "# # MP3를 WAV로 변환\n",
    "# audio = AudioSegment.from_mp3(\"/tts/ai_learning.mp3\")\n",
    "# wav_path = \"/mnt/data/ai_learning.wav\"\n",
    "# audio.export(wav_path, format=\"wav\")\n",
    "\n",
    "# wav_path"
   ]
  }
 ],
 "metadata": {
  "kernelspec": {
   "display_name": "realtime",
   "language": "python",
   "name": "python3"
  },
  "language_info": {
   "codemirror_mode": {
    "name": "ipython",
    "version": 3
   },
   "file_extension": ".py",
   "mimetype": "text/x-python",
   "name": "python",
   "nbconvert_exporter": "python",
   "pygments_lexer": "ipython3",
   "version": "3.11.11"
  }
 },
 "nbformat": 4,
 "nbformat_minor": 2
}
